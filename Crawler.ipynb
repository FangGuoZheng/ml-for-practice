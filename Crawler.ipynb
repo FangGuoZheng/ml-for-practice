{
 "cells": [
  {
   "cell_type": "markdown",
   "metadata": {},
   "source": [
    "## 爬虫1"
   ]
  },
  {
   "cell_type": "code",
   "execution_count": 2,
   "metadata": {
    "collapsed": true
   },
   "outputs": [],
   "source": [
    "from bs4 import BeautifulSoup\n",
    "import requests\n",
    "\n",
    "headers = {}\n",
    "headers['User-Agent'] = 'Mozilla/5.0 (Windows NT 6.1; Win64; x64) AppleWebKit/537.36 (KHTML, like Gecko) Chrome/65.0.3325.181 Safari/537.36'\n",
    "# headers['Accept'] = 'text/html,application/xhtml+xml,application/xml;q=0.9,image/webp,*/*;q=0.8'"
   ]
  },
  {
   "cell_type": "code",
   "execution_count": 8,
   "metadata": {},
   "outputs": [
    {
     "name": "stdout",
     "output_type": "stream",
     "text": [
      "39.134.10.102 CN\n"
     ]
    }
   ],
   "source": [
    "url = 'http://www.whatismyip.com.tw/'\n",
    "proxies = { \n",
    "    \"http\": \"http://39.134.10.102:8080\"\n",
    "}\n",
    "r = requests.get(url, headers=headers, proxies=proxies)\n",
    "bs = BeautifulSoup(r.text, 'lxml')\n",
    "ip = bs.find('b', attrs={'style':'font-size: 1.5em;'}).text\n",
    "area = bs.find('i', attrs={}).text\n",
    "print(ip, area)"
   ]
  },
  {
   "cell_type": "code",
   "execution_count": 9,
   "metadata": {
    "collapsed": true
   },
   "outputs": [],
   "source": [
    "response = requests.get('https://movie.douban.com/subject/26363254/')\n",
    "bs = BeautifulSoup(response.text, 'lxml')\n",
    "\n",
    "name = bs.find('span', attrs={'property':'v:itemreviewed'}).text\n",
    "score = bs.find('strong', attrs={'property':'v:average'}).text\n",
    "summary = bs.find('div', id='link-report').text.strip()\n",
    "#summary = bs.find('span', attrs={'property':'v:summary'}).text.strip()"
   ]
  },
  {
   "cell_type": "code",
   "execution_count": 10,
   "metadata": {},
   "outputs": [
    {
     "name": "stdout",
     "output_type": "stream",
     "text": [
      "战狼2 7.2\n",
      "故事发生在非洲附近的大海上，主人公冷锋（吴京 饰）遭遇人生滑铁卢，被“开除军籍”，本想漂泊一生的他，正当他打算这么做的时候，一场突如其来的意外打破了他的计划，突然被卷入了一场非洲国家叛乱，本可以安全撤离，却因无法忘记曾经为军人的使命，孤身犯险冲回沦陷区，带领身陷屠杀中的同胞和难民，展开生死逃亡。随着斗争的持续，体内的狼性逐渐复苏，最终孤身闯入战乱区域，为同胞而战斗。\n"
     ]
    }
   ],
   "source": [
    "print(name, score)\n",
    "print(summary)"
   ]
  },
  {
   "cell_type": "markdown",
   "metadata": {},
   "source": [
    "## 爬虫2 - 似乎会出现异常"
   ]
  },
  {
   "cell_type": "code",
   "execution_count": 14,
   "metadata": {
    "collapsed": true
   },
   "outputs": [],
   "source": [
    "import urllib.request as request\n",
    "import urllib.parse as parse\n",
    "import urllib\n",
    "import json\n",
    "\n",
    "headers = {}\n",
    "headers['User-Agent'] = 'Mozilla/5.0 (Windows NT 6.1; Win64; x64) AppleWebKit/537.36 (KHTML, like Gecko) Chrome/65.0.3325.181 Safari/537.36'\n",
    "headers['Accept'] = 'text/html,application/xhtml+xml,application/xml;q=0.9,image/webp,*/*;q=0.8'"
   ]
  },
  {
   "cell_type": "code",
   "execution_count": 16,
   "metadata": {},
   "outputs": [],
   "source": [
    "response_get = request.Request(\"http://placekitten.com/g/500/600\", None, headers)\n",
    "response = request.urlopen(response_get)\n",
    "cat_img = response.read()\n",
    "\n",
    "with open('C:/Users/FGZ/Desktop/cat_500_600.jpg', 'wb') as f:\n",
    "    f.write(cat_img)"
   ]
  },
  {
   "cell_type": "code",
   "execution_count": 17,
   "metadata": {},
   "outputs": [
    {
     "name": "stdout",
     "output_type": "stream",
     "text": [
      "{\"errorCode\":50}\n"
     ]
    }
   ],
   "source": [
    "url = \"http://fanyi.youdao.com/translate_o?smartresult=dict&smartresult=rule\"\n",
    "\n",
    "data = {}\n",
    "data['i'] = '我爱你'\n",
    "data['from'] = 'AUTO'\n",
    "data['to'] = 'AUTO'\n",
    "data['smartresult'] = 'dict'\n",
    "data['client'] = 'fanyideskweb'\n",
    "data['salt'] = '1521631328780'\n",
    "data['sign'] = '089c11a8ddc19451ea7b327ecad2a02a'\n",
    "data['doctype'] = 'json'\n",
    "data['version'] = '2.1'\n",
    "data['keyfrom'] = 'fanyi.web'\n",
    "data['action'] = 'FY_BY_REALTIME'\n",
    "data['typoResult'] = 'false'\n",
    "data = parse.urlencode(data).encode('utf-8')\n",
    "\n",
    "req = request.Request(url, data, headers)\n",
    "response = request.urlopen(req)\n",
    "html = response.read().decode('utf-8')\n",
    "\n",
    "# target = json.loads(html)\n",
    "# target = target['translateResult'][0][0]['tgt']\n",
    "print(html)"
   ]
  },
  {
   "cell_type": "code",
   "execution_count": 1,
   "metadata": {
    "collapsed": true
   },
   "outputs": [],
   "source": [
    "from bs4 import BeautifulSoup\n",
    "import urllib.request as request\n",
    "import urllib.parse as parse\n",
    "import urllib\n",
    "import random\n",
    "import json\n",
    "\n",
    "headers = {}\n",
    "headers['User-Agent'] = 'Mozilla/5.0 (Windows NT 6.1; Win64; x64) AppleWebKit/537.36 (KHTML, like Gecko) Chrome/65.0.3325.181 Safari/537.36'"
   ]
  },
  {
   "cell_type": "code",
   "execution_count": 3,
   "metadata": {},
   "outputs": [
    {
     "name": "stdout",
     "output_type": "stream",
     "text": [
      "39.134.10.97:8080\n",
      "点此查看常见问题解答\n"
     ]
    }
   ],
   "source": [
    "url = \"http://47.95.22.126:8080/oj/admin/index.jsp\"\n",
    "\n",
    "iplist = ['39.134.10.102:8080', '39.134.10.101:8080', '39.134.10.98:8080', '61.4.184.180:3128', '39.134.10.99:8080', '39.134.10.97:8080', '39.134.10.100:8080']\n",
    "# uname_password = {'20171856':'12345678', '20171857':'12345678', '20171858':'12345678', '20171859':'12345678', '20171860':'12345678'}\n",
    "\n",
    "data={}\n",
    "data['account'] = 'admin'\n",
    "data['password'] = 'admin123'\n",
    "\n",
    "for i in range(1):\n",
    "    ip_temp = random.choice(iplist)\n",
    "    print(ip_temp)\n",
    "    proxy_support = request.ProxyHandler({'http':ip_temp})\n",
    "    opener = request.build_opener(proxy_support)\n",
    "    request.install_opener(opener)\n",
    "    data = parse.urlencode(data).encode('utf-8')\n",
    "    req = request.Request(url, None, headers)\n",
    "    response = request.urlopen(req)\n",
    "    html = response.read().decode('utf-8')\n",
    "    bs = BeautifulSoup(html, 'lxml')\n",
    "    content = bs.find('p', attrs={'class':'index-right-line2'}).text\n",
    "    \n",
    "#     target = json.loads(html)\n",
    "#     target = target['msg']\n",
    "    print(content)"
   ]
  }
 ],
 "metadata": {
  "kernelspec": {
   "display_name": "Python 3",
   "language": "python",
   "name": "python3"
  },
  "language_info": {
   "codemirror_mode": {
    "name": "ipython",
    "version": 3
   },
   "file_extension": ".py",
   "mimetype": "text/x-python",
   "name": "python",
   "nbconvert_exporter": "python",
   "pygments_lexer": "ipython3",
   "version": "3.6.3"
  }
 },
 "nbformat": 4,
 "nbformat_minor": 2
}
