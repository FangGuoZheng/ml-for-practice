{
 "cells": [
  {
   "cell_type": "markdown",
   "metadata": {},
   "source": [
    "## PYTHON类"
   ]
  },
  {
   "cell_type": "code",
   "execution_count": 8,
   "metadata": {
    "collapsed": true
   },
   "outputs": [],
   "source": [
    "class Person:\n",
    "    def __init__(self, name, age):\n",
    "        self.name = name\n",
    "        self.age = age\n",
    "        \n",
    "    def getName(self):\n",
    "        return self.name\n",
    "    \n",
    "    def reName(self, new_name):\n",
    "        self.name = new_name\n",
    "        "
   ]
  },
  {
   "cell_type": "code",
   "execution_count": 9,
   "metadata": {},
   "outputs": [
    {
     "data": {
      "text/plain": [
       "'hello world!'"
      ]
     },
     "execution_count": 9,
     "metadata": {},
     "output_type": "execute_result"
    }
   ],
   "source": [
    "s = \"hello world!\"\n",
    "s.center(12)"
   ]
  },
  {
   "cell_type": "code",
   "execution_count": 10,
   "metadata": {},
   "outputs": [
    {
     "data": {
      "text/plain": [
       "'fang'"
      ]
     },
     "execution_count": 10,
     "metadata": {},
     "output_type": "execute_result"
    }
   ],
   "source": [
    "p = Person('fang', 25)\n",
    "p.getName()"
   ]
  },
  {
   "cell_type": "code",
   "execution_count": 11,
   "metadata": {},
   "outputs": [
    {
     "data": {
      "text/plain": [
       "'fgz'"
      ]
     },
     "execution_count": 11,
     "metadata": {},
     "output_type": "execute_result"
    }
   ],
   "source": [
    "p.reName('fgz')\n",
    "p.getName()"
   ]
  },
  {
   "cell_type": "markdown",
   "metadata": {},
   "source": [
    "## 机器学习 - 线性回归"
   ]
  },
  {
   "cell_type": "code",
   "execution_count": 49,
   "metadata": {
    "collapsed": true
   },
   "outputs": [],
   "source": [
    "import numpy as np\n",
    "import matplotlib.pyplot as plt\n",
    "%matplotlib inline"
   ]
  },
  {
   "cell_type": "code",
   "execution_count": 50,
   "metadata": {
    "collapsed": true
   },
   "outputs": [],
   "source": [
    "x = np.linspace(1, 10, 20)\n",
    "a = np.random.randint(1, 10, 20)\n",
    "y = x * 4 + a"
   ]
  },
  {
   "cell_type": "code",
   "execution_count": 51,
   "metadata": {},
   "outputs": [
    {
     "data": {
      "text/plain": [
       "[<matplotlib.lines.Line2D at 0x95d59e8>]"
      ]
     },
     "execution_count": 51,
     "metadata": {},
     "output_type": "execute_result"
    },
    {
     "data": {
      "image/png": "[encoded data removed]",
      "text/plain": [
       "<matplotlib.figure.Figure at 0x7e9c588>"
      ]
     },
     "metadata": {},
     "output_type": "display_data"
    }
   ],
   "source": [
    "plt.plot(x, y, 'o')"
   ]
  },
  {
   "cell_type": "code",
   "execution_count": 52,
   "metadata": {},
   "outputs": [
    {
     "data": {
      "text/plain": [
       "LinearRegression(copy_X=True, fit_intercept=True, n_jobs=1, normalize=False)"
      ]
     },
     "execution_count": 52,
     "metadata": {},
     "output_type": "execute_result"
    }
   ],
   "source": [
    "from sklearn.linear_model import LinearRegression\n",
    "model = LinearRegression()\n",
    "model.fit(x.reshape(20, 1), y.reshape(20, 1))"
   ]
  },
  {
   "cell_type": "code",
   "execution_count": 53,
   "metadata": {},
   "outputs": [
    {
     "data": {
      "text/plain": [
       "array([[ 29.05873016]])"
      ]
     },
     "execution_count": 53,
     "metadata": {},
     "output_type": "execute_result"
    }
   ],
   "source": [
    "model.predict(6)"
   ]
  },
  {
   "cell_type": "markdown",
   "metadata": {},
   "source": [
    "这是线性函数当中的系数"
   ]
  },
  {
   "cell_type": "code",
   "execution_count": 54,
   "metadata": {},
   "outputs": [
    {
     "data": {
      "text/plain": [
       "array([[ 4.41746032]])"
      ]
     },
     "execution_count": 54,
     "metadata": {},
     "output_type": "execute_result"
    }
   ],
   "source": [
    "model.coef_"
   ]
  },
  {
   "cell_type": "markdown",
   "metadata": {},
   "source": [
    "这是线性函数当中的偏移量"
   ]
  },
  {
   "cell_type": "code",
   "execution_count": 55,
   "metadata": {},
   "outputs": [
    {
     "data": {
      "text/plain": [
       "array([ 2.55396825])"
      ]
     },
     "execution_count": 55,
     "metadata": {},
     "output_type": "execute_result"
    }
   ],
   "source": [
    "model.intercept_"
   ]
  },
  {
   "cell_type": "code",
   "execution_count": 57,
   "metadata": {},
   "outputs": [
    {
     "data": {
      "text/plain": [
       "29.05873017"
      ]
     },
     "execution_count": 57,
     "metadata": {},
     "output_type": "execute_result"
    }
   ],
   "source": [
    "4.41746032 * 6 + 2.55396825"
   ]
  },
  {
   "cell_type": "markdown",
   "metadata": {
    "collapsed": true
   },
   "source": [
    "## Python广播"
   ]
  },
  {
   "cell_type": "code",
   "execution_count": null,
   "metadata": {
    "collapsed": true
   },
   "outputs": [],
   "source": [
    "import numpy as np\n",
    "\n",
    "A = np.array([[56.0, 0.0, 4.4, 68.0], \n",
    "      [1.2, 104.0, 52.0, 8.0], \n",
    "      [1.8, 135.0, 99.0, 0.9]])\n",
    "print(A)"
   ]
  },
  {
   "cell_type": "markdown",
   "metadata": {},
   "source": [
    "axis=0代表轴等于0，意味着python在竖直方向求和；而相应的水平轴为1，即axis=1。"
   ]
  },
  {
   "cell_type": "code",
   "execution_count": null,
   "metadata": {
    "collapsed": true
   },
   "outputs": [],
   "source": [
    "cal = A.sum(axis=0)\n",
    "print(cal)"
   ]
  },
  {
   "cell_type": "markdown",
   "metadata": {},
   "source": [
    "在这里是(3,4)的矩阵除以(1,4)的矩阵"
   ]
  },
  {
   "cell_type": "code",
   "execution_count": null,
   "metadata": {
    "collapsed": true
   },
   "outputs": [],
   "source": [
    "percentage = 100*A/cal.reshape(1, 4)\n",
    "print(percentage)"
   ]
  },
  {
   "cell_type": "markdown",
   "metadata": {},
   "source": [
    "## 例子 对于行向量和列向量同样有效"
   ]
  },
  {
   "cell_type": "code",
   "execution_count": null,
   "metadata": {
    "collapsed": true
   },
   "outputs": [],
   "source": [
    "A1=np.array([1,2,3,4])\n",
    "A11=A1.T\n",
    "print(A11+100)"
   ]
  },
  {
   "cell_type": "code",
   "execution_count": null,
   "metadata": {
    "collapsed": true
   },
   "outputs": [],
   "source": [
    "A2=np.array([[1,2,3],[4,5,6]])\n",
    "A3=np.array([100,200,300])\n",
    "A2+A3"
   ]
  },
  {
   "cell_type": "code",
   "execution_count": null,
   "metadata": {
    "collapsed": true
   },
   "outputs": [],
   "source": [
    "A4=np.array([[100],[200]])\n",
    "A2+A4"
   ]
  },
  {
   "cell_type": "code",
   "execution_count": null,
   "metadata": {
    "collapsed": true
   },
   "outputs": [],
   "source": [
    "A12=np.array([[10],[20],[30],[40]])\n",
    "A1+A12"
   ]
  },
  {
   "cell_type": "markdown",
   "metadata": {},
   "source": [
    "与第一个进行对比，你会发现矩阵表示方法为[[]]，而秩为1的数组表示方法为[]"
   ]
  },
  {
   "cell_type": "code",
   "execution_count": null,
   "metadata": {
    "collapsed": true
   },
   "outputs": [],
   "source": [
    "print(A12.T)"
   ]
  },
  {
   "cell_type": "code",
   "execution_count": null,
   "metadata": {
    "collapsed": true
   },
   "outputs": [],
   "source": [
    "print(np.dot(A12, A12.T))"
   ]
  },
  {
   "cell_type": "markdown",
   "metadata": {},
   "source": [
    "在实际生活中，我们要尽量少用秩为1的数组，多用矩阵。np.random.randn(5) --> np.random.randn(5, 1)或者np.random.randn(1, 5)"
   ]
  },
  {
   "cell_type": "code",
   "execution_count": null,
   "metadata": {
    "collapsed": true
   },
   "outputs": [],
   "source": [
    "a = np.random.randn(5, 1)\n",
    "print(a.shape)"
   ]
  },
  {
   "cell_type": "markdown",
   "metadata": {},
   "source": [
    "## 输入输出语句"
   ]
  },
  {
   "cell_type": "code",
   "execution_count": 23,
   "metadata": {},
   "outputs": [
    {
     "name": "stdout",
     "output_type": "stream",
     "text": [
      "Hello, word\n"
     ]
    }
   ],
   "source": [
    "print('Hello, word')"
   ]
  },
  {
   "cell_type": "code",
   "execution_count": 26,
   "metadata": {},
   "outputs": [
    {
     "name": "stdout",
     "output_type": "stream",
     "text": [
      "please input digit:1\n",
      "2\n",
      "a+b=3\n"
     ]
    }
   ],
   "source": [
    "a = int(input('please input digit:'))\n",
    "b = int(input())\n",
    "print('a+b=', a+b, sep='')"
   ]
  },
  {
   "cell_type": "markdown",
   "metadata": {},
   "source": [
    "## 基本数据类型：整形（int）、浮点型数据（float）、bool类型、字符串类型（str）"
   ]
  },
  {
   "cell_type": "code",
   "execution_count": 27,
   "metadata": {},
   "outputs": [
    {
     "name": "stdout",
     "output_type": "stream",
     "text": [
      "8.24\n"
     ]
    }
   ],
   "source": [
    "a = 3.14\n",
    "b = 5.10\n",
    "print(a+b)"
   ]
  },
  {
   "cell_type": "code",
   "execution_count": 1,
   "metadata": {
    "scrolled": true
   },
   "outputs": [
    {
     "data": {
      "text/plain": [
       "250250.0"
      ]
     },
     "execution_count": 1,
     "metadata": {},
     "output_type": "execute_result"
    }
   ],
   "source": [
    "1001*500/2"
   ]
  },
  {
   "cell_type": "code",
   "execution_count": 29,
   "metadata": {},
   "outputs": [
    {
     "data": {
      "text/plain": [
       "'hello,how are you!'"
      ]
     },
     "execution_count": 29,
     "metadata": {},
     "output_type": "execute_result"
    }
   ],
   "source": [
    "aa = 'hello,'\n",
    "bb = 'how are you!'\n",
    "aa+bb"
   ]
  },
  {
   "cell_type": "markdown",
   "metadata": {},
   "source": [
    "## input对象 小游戏-猜我心中的数字"
   ]
  },
  {
   "cell_type": "code",
   "execution_count": null,
   "metadata": {
    "collapsed": true
   },
   "outputs": [],
   "source": [
    "import random\n",
    "secret = random.randint(1,10)\n",
    "print('-------------------我爱鱼C工作室-------------------')\n",
    "temp = input('不妨猜一下小甲鱼现在心里想的是哪个数字：')\n",
    "guess = int(temp)\n",
    "while guess != secret:\n",
    "    if guess > secret:\n",
    "        print('哥，大了大了...')\n",
    "    else:\n",
    "        print('嘿，小了小了...')\n",
    "    temp = input('哎呀！猜错了，请重新输入吧：')\n",
    "    guess = int(temp)\n",
    "\n",
    "if guess == secret:\n",
    "        print('我草，你是小甲鱼心里的蛔虫吗？')\n",
    "        print('哼，猜中了也没有奖励！')\n",
    "print('游戏结束，不玩啦^_^')"
   ]
  },
  {
   "attachments": {
    "image.png": {
     "image/png": "[encoded data removed]"
    }
   },
   "cell_type": "markdown",
   "metadata": {},
   "source": [
    "![image.png](attachment:image.png)"
   ]
  },
  {
   "cell_type": "code",
   "execution_count": 34,
   "metadata": {},
   "outputs": [
    {
     "name": "stdout",
     "output_type": "stream",
     "text": [
      "a<=b\n"
     ]
    }
   ],
   "source": [
    "a=2\n",
    "b=3\n",
    "if a>b:\n",
    "    print('a>b')\n",
    "else:\n",
    "    print('a<=b')"
   ]
  },
  {
   "cell_type": "code",
   "execution_count": 2,
   "metadata": {},
   "outputs": [
    {
     "name": "stdout",
     "output_type": "stream",
     "text": [
      "500500\n"
     ]
    }
   ],
   "source": [
    "i=1\n",
    "sum=0\n",
    "while i<=1000:\n",
    "    sum=sum+i\n",
    "    i=i+1\n",
    "print(sum)"
   ]
  },
  {
   "cell_type": "markdown",
   "metadata": {},
   "source": [
    "## 列表：一个打了激素的数组，append()、extend()、insert()、remove()、del()、pop()"
   ]
  },
  {
   "cell_type": "code",
   "execution_count": 30,
   "metadata": {},
   "outputs": [
    {
     "name": "stdout",
     "output_type": "stream",
     "text": [
      "[3.14, [1, 2, 3]]\n",
      "[1, 3.14, [1, 2, 3]]\n",
      "[3.14, [1, 2, 3], '福绿娃娃', 'lcl']\n",
      "[1, 3.14, [1, 2, 3], '福绿娃娃', 'lcl']\n",
      "[1, 3.14, [1, 2, 3], '福绿娃娃', 'lcl']\n"
     ]
    }
   ],
   "source": [
    "mix = [1, 'fgz', 3.14, [1,2,3]]\n",
    "empty = []\n",
    "empty\n",
    "mix.append('福绿娃娃') # append属于列表的方法，所有需要\".\"进行调用\n",
    "mix.extend(['lcl', 'hello'])\n",
    "mix.insert(1, '牡丹')\n",
    "len(mix)\n",
    "mix.remove('牡丹')\n",
    "del mix[1]\n",
    "mix.pop()\n",
    "print(mix[1:3])\n",
    "print(mix[:3])\n",
    "print(mix[1:])\n",
    "print(mix[:]) # 列表的拷贝\n",
    "print(mix)"
   ]
  },
  {
   "cell_type": "code",
   "execution_count": 32,
   "metadata": {},
   "outputs": [
    {
     "name": "stdout",
     "output_type": "stream",
     "text": [
      "['fgz', 3.14]\n"
     ]
    }
   ],
   "source": [
    "mix = [1, 'fgz', 3.14, [1,2,3]]\n",
    "len(mix)\n",
    "print(mix[1:3])"
   ]
  },
  {
   "cell_type": "code",
   "execution_count": null,
   "metadata": {
    "collapsed": true
   },
   "outputs": [],
   "source": [
    "list1 = [123, 456]\n",
    "list2 = [789, 369]\n",
    "list1 + list2 # 相当于extend()方法，不建议使用\n",
    "list1 *= 3\n",
    "123 in list1\n",
    "'fgz' not in list1\n",
    "list1.count(123)\n",
    "list3 = [1,9,12,5,3,23,16]\n",
    "list3.sort(reverse=True) # 算法默认是归并排序\n",
    "list4 = list3 # 这两个指针指向的对象是同一个对象\n",
    "list4"
   ]
  },
  {
   "cell_type": "markdown",
   "metadata": {},
   "source": [
    "## 元组：带上了枷锁的列表"
   ]
  },
  {
   "cell_type": "code",
   "execution_count": null,
   "metadata": {
    "collapsed": true
   },
   "outputs": [],
   "source": [
    "tuple1 = (1,2,3,4,5,6,7,8)\n",
    "print(tuple1[1:])\n",
    "print(tuple1[:5])\n",
    "tuple2 = tuple1[:]\n",
    "print(tuple2)\n",
    "# temp = () # 空元组的创建\n",
    "temp = (1,)\n",
    "type(temp)"
   ]
  },
  {
   "cell_type": "code",
   "execution_count": null,
   "metadata": {
    "collapsed": true
   },
   "outputs": [],
   "source": [
    "tuple3 = ('小甲鱼', '黑夜', '迷途', '小布丁')\n",
    "print(tuple3)\n",
    "tuple3 = tuple3[:2] + ('怡静',) + tuple3[2:]\n",
    "print(tuple3)"
   ]
  },
  {
   "cell_type": "markdown",
   "metadata": {},
   "source": [
    "## 字符串"
   ]
  },
  {
   "cell_type": "code",
   "execution_count": null,
   "metadata": {
    "collapsed": true
   },
   "outputs": [],
   "source": [
    "str1 = 'I love fishc.com'\n",
    "print(str1[:6])\n",
    "print(str1[5])\n",
    "str2 = str1[:6]+'插入的字符串'+str1[6:]\n",
    "print(str2)\n",
    "print(str1.count('o'))\n",
    "print(str1.title())\n",
    "str1.translate(str1.maketrans('love', 'like'))"
   ]
  },
  {
   "cell_type": "markdown",
   "metadata": {},
   "source": [
    "## 字符串格式化"
   ]
  },
  {
   "cell_type": "code",
   "execution_count": null,
   "metadata": {
    "collapsed": true
   },
   "outputs": [],
   "source": [
    "\"{0} love {1}.{2}\".format(\"I\", \"FishC\", \"com\")\n",
    "\"{a} love {b}.{c}\".format(a=\"I\", b=\"FishC\", c=\"com\")\n",
    "'{0:.1f}{1}'.format(27.658, 'GB')\n",
    "'%c' % 97\n",
    "print('%c %c %c' % (97, 98, 99))\n",
    "print('%d + %d = %d' % (4, 5, 4+5))"
   ]
  },
  {
   "cell_type": "markdown",
   "metadata": {},
   "source": [
    "## 序列！序列！（序列是列表、元组、字符串的统称）（重复操作符*、拼接操作符+、成员关系操作符in or not in）\n",
    "max()：返回序列或者参数集合中的最大值"
   ]
  },
  {
   "cell_type": "code",
   "execution_count": null,
   "metadata": {
    "collapsed": true
   },
   "outputs": [],
   "source": [
    "a = list()\n",
    "b = 'I love FishC.com'\n",
    "b = list(b)\n",
    "print(type(b))\n",
    "c = (1,2,4,5,6,7,8,9,14,52,34)\n",
    "print(type(c))\n",
    "c = list(c)\n",
    "max(1,2,3,4,5)\n",
    "max(b)\n",
    "numbers = [1,18,13,0,-98,34,54,76,32]\n",
    "print(type(numbers))\n",
    "max(numbers)\n",
    "sum(numbers)\n",
    "sorted(numbers)"
   ]
  },
  {
   "cell_type": "markdown",
   "metadata": {},
   "source": [
    "## 函数"
   ]
  },
  {
   "cell_type": "code",
   "execution_count": null,
   "metadata": {
    "collapsed": true
   },
   "outputs": [],
   "source": [
    "def MyFirstFunction(name):\n",
    "    '这里可以简要地描述函数的功能'\n",
    "    print('你传进来参数的值为'+name)\n",
    "\n",
    "MyFirstFunction('fgz')\n",
    "print(MyFirstFunction.__doc__)"
   ]
  },
  {
   "cell_type": "code",
   "execution_count": null,
   "metadata": {
    "collapsed": true
   },
   "outputs": [],
   "source": [
    "def SaySome(name, words):\n",
    "    print(name+ '->' +words)\n",
    "    \n",
    "SaySome(words='让编程改变世界！', name='fgz')"
   ]
  },
  {
   "cell_type": "code",
   "execution_count": null,
   "metadata": {
    "collapsed": true
   },
   "outputs": [],
   "source": [
    "def test(*params, exp):\n",
    "    print('参数的长度是：', len(params), exp)\n",
    "    print('第二个参数是：', params[1])\n",
    "    \n",
    "test(1, 'fgz', 3.14, 4, 5, 6, 7, exp=8)"
   ]
  },
  {
   "cell_type": "markdown",
   "metadata": {},
   "source": [
    "## lambda表达式 -> “：”的前面表示的是函数的形参，而后面表示的是函数返回的值"
   ]
  },
  {
   "cell_type": "markdown",
   "metadata": {},
   "source": [
    "```python\n",
    "def ds(x):\n",
    "   return 2*x+1\n",
    "```"
   ]
  },
  {
   "cell_type": "code",
   "execution_count": null,
   "metadata": {
    "collapsed": true
   },
   "outputs": [],
   "source": [
    "ds = lambda x : 2*x+1\n",
    "ds(5)"
   ]
  },
  {
   "cell_type": "markdown",
   "metadata": {},
   "source": [
    "```python\n",
    "def add(x, y):\n",
    "   return x+y\n",
    "```"
   ]
  },
  {
   "cell_type": "code",
   "execution_count": null,
   "metadata": {
    "collapsed": true
   },
   "outputs": [],
   "source": [
    "add = lambda x, y : x+y\n",
    "add(3, 4)"
   ]
  },
  {
   "cell_type": "code",
   "execution_count": null,
   "metadata": {
    "collapsed": true
   },
   "outputs": [],
   "source": [
    "list(filter(None, [1,0,False,True]))\n",
    "def odd(x):\n",
    "    return x%2\n",
    "temp = range(10)\n",
    "show = filter(odd,temp)\n",
    "list(show)\n",
    "list(filter(lambda x : x % 2, range(10)))"
   ]
  },
  {
   "cell_type": "markdown",
   "metadata": {
    "collapsed": true
   },
   "source": [
    "## map()和reduce()"
   ]
  },
  {
   "cell_type": "code",
   "execution_count": null,
   "metadata": {
    "collapsed": true
   },
   "outputs": [],
   "source": [
    "from functools import reduce\n",
    "list(map(lambda x : x * 2, range(10)))\n",
    "reduce(lambda x,y : 10*x+y, [1, 3, 5, 7, 9])"
   ]
  },
  {
   "cell_type": "code",
   "execution_count": null,
   "metadata": {
    "collapsed": true
   },
   "outputs": [],
   "source": [
    "from functools import reduce\n",
    "DIGITS = {'0': 0, '1': 1, '2': 2, '3': 3, '4': 4, '5': 5, '6': 6, '7': 7, '8': 8, '9': 9}\n",
    "reduce(lambda x,y : 10*x+y, list(map(lambda x : DIGITS[x], '456723')))"
   ]
  },
  {
   "cell_type": "code",
   "execution_count": null,
   "metadata": {
    "collapsed": true
   },
   "outputs": [],
   "source": [
    "def normalize(name):\n",
    "    return name.capitalize()\n",
    "\n",
    "L1 = ['adam', 'LISA', 'barT']\n",
    "L2 = list(map(normalize, L1))\n",
    "print(L2)"
   ]
  },
  {
   "cell_type": "markdown",
   "metadata": {},
   "source": [
    "## 列表生成式"
   ]
  },
  {
   "cell_type": "code",
   "execution_count": null,
   "metadata": {
    "collapsed": true
   },
   "outputs": [],
   "source": [
    "list(range(1, 10))"
   ]
  },
  {
   "cell_type": "markdown",
   "metadata": {
    "collapsed": true
   },
   "source": [
    "## 正则表达式"
   ]
  },
  {
   "cell_type": "code",
   "execution_count": 8,
   "metadata": {},
   "outputs": [
    {
     "data": {
      "text/plain": [
       "<_sre.SRE_Match object; span=(0, 8), match='123-4567'>"
      ]
     },
     "execution_count": 8,
     "metadata": {},
     "output_type": "execute_result"
    }
   ],
   "source": [
    "import re\n",
    "re.match(r'^\\d{3}\\-\\d{3,8}$', '123-4567')"
   ]
  },
  {
   "cell_type": "code",
   "execution_count": 17,
   "metadata": {},
   "outputs": [
    {
     "name": "stdout",
     "output_type": "stream",
     "text": [
      "用户输入的邮箱号：456789@163.com\n",
      "ok\n"
     ]
    }
   ],
   "source": [
    "import re\n",
    "test = input('用户输入的邮箱号：')\n",
    "if re.match(r'^\\d{3,9}@[1-9a-z]+(.com)$', test):\n",
    "    print('ok')\n",
    "else:\n",
    "    print('failed')"
   ]
  },
  {
   "cell_type": "markdown",
   "metadata": {},
   "source": [
    "## python解决浮点计算不精确问题"
   ]
  },
  {
   "cell_type": "code",
   "execution_count": 37,
   "metadata": {},
   "outputs": [
    {
     "name": "stdout",
     "output_type": "stream",
     "text": [
      "0.30000000000000004\n",
      "0.3\n"
     ]
    }
   ],
   "source": [
    "from decimal import Decimal\n",
    "print(0.1+0.2)\n",
    "print(Decimal(str(0.1)) + Decimal(str(0.2)))"
   ]
  },
  {
   "cell_type": "markdown",
   "metadata": {},
   "source": [
    "## 算法题1"
   ]
  },
  {
   "cell_type": "code",
   "execution_count": null,
   "metadata": {
    "collapsed": true
   },
   "outputs": [],
   "source": [
    "def get_sum(temp):\n",
    "#     print(temp)\n",
    "    sum=0\n",
    "    for x in range(len(temp)):\n",
    "        sum = sum+int(temp[x])\n",
    "#     print(sum)\n",
    "    return sum\n",
    "\n",
    "a = [int(x) for x in input().split(' ')]\n",
    "i=1\n",
    "count=0\n",
    "temp=1\n",
    "while i<a[0]:\n",
    "    i = i+1\n",
    "    temp = temp+get_sum(str(i))\n",
    "\n",
    "while i<=a[1]:\n",
    "    if temp%3 == 0:\n",
    "        count = count+1\n",
    "    i = i+1\n",
    "    temp = temp+get_sum(str(i))\n",
    "\n",
    "print(count)"
   ]
  },
  {
   "cell_type": "markdown",
   "metadata": {},
   "source": [
    "## 算法题2"
   ]
  },
  {
   "cell_type": "code",
   "execution_count": 95,
   "metadata": {},
   "outputs": [
    {
     "name": "stdout",
     "output_type": "stream",
     "text": [
      "nihao, i love you!\n",
      "4\n"
     ]
    }
   ],
   "source": [
    "str1 = input()\n",
    "print(len(str1)-str1.rfind(' ')-1)"
   ]
  },
  {
   "cell_type": "code",
   "execution_count": 96,
   "metadata": {},
   "outputs": [
    {
     "name": "stdout",
     "output_type": "stream",
     "text": [
      "4\n"
     ]
    }
   ],
   "source": [
    "for i in range(len(str1)-1, 0, -1):\n",
    "    if str1[i] == ' ': \n",
    "        print(len(str1)-i-1)\n",
    "        break"
   ]
  },
  {
   "cell_type": "markdown",
   "metadata": {},
   "source": [
    "## 算法3"
   ]
  },
  {
   "cell_type": "code",
   "execution_count": 2,
   "metadata": {},
   "outputs": [
    {
     "name": "stdout",
     "output_type": "stream",
     "text": [
      "ABCabc\n",
      "a\n",
      "2\n"
     ]
    }
   ],
   "source": [
    "str2 = input()\n",
    "ch = input()\n",
    "ch_temp = '!'\n",
    "if ch>='A' and ch<='Z':\n",
    "    ch_temp = ch.lower()\n",
    "elif ch>='a' and ch<='z':\n",
    "    ch_temp = ch.upper()\n",
    "print(str2.count(ch)+str2.count(ch_temp))"
   ]
  },
  {
   "cell_type": "markdown",
   "metadata": {},
   "source": [
    "## 标准差的公式（注意：最后除以样本长度减一）"
   ]
  },
  {
   "cell_type": "code",
   "execution_count": 63,
   "metadata": {},
   "outputs": [
    {
     "data": {
      "text/plain": [
       "0.350848727766212"
      ]
     },
     "execution_count": 63,
     "metadata": {},
     "output_type": "execute_result"
    }
   ],
   "source": [
    "df1 = pd.DataFrame(np.random.rand(4,6), columns=['a', 'b', 'c', 'd', 'e', 'f'])\n",
    "df_col = df1['a']\n",
    "df_col.std()"
   ]
  },
  {
   "cell_type": "code",
   "execution_count": 64,
   "metadata": {},
   "outputs": [
    {
     "data": {
      "text/plain": [
       "0.35084872776621201"
      ]
     },
     "execution_count": 64,
     "metadata": {},
     "output_type": "execute_result"
    }
   ],
   "source": [
    "std=0.0\n",
    "m=len(df_col)\n",
    "for i in range(m):\n",
    "    std+=np.square((df_col[i]-df_col.mean()))\n",
    "np.sqrt(std/(m-1))"
   ]
  },
  {
   "cell_type": "markdown",
   "metadata": {},
   "source": [
    "# Ng-MachineLearning"
   ]
  },
  {
   "cell_type": "markdown",
   "metadata": {},
   "source": [
    "## linear regreesion（线性回归）"
   ]
  },
  {
   "cell_type": "code",
   "execution_count": 29,
   "metadata": {
    "collapsed": true
   },
   "outputs": [],
   "source": [
    "import pandas as pd\n",
    "import seaborn as sns\n",
    "sns.set(context=\"notebook\", style=\"whitegrid\", palette=\"dark\")\n",
    "import matplotlib.pyplot as plt\n",
    "import numpy as np"
   ]
  },
  {
   "cell_type": "code",
   "execution_count": 30,
   "metadata": {},
   "outputs": [
    {
     "name": "stdout",
     "output_type": "stream",
     "text": [
      "97\n",
      "<class 'pandas.core.frame.DataFrame'>\n",
      "RangeIndex: 97 entries, 0 to 96\n",
      "Data columns (total 2 columns):\n",
      "population    97 non-null float64\n",
      "profits       97 non-null float64\n",
      "dtypes: float64(2)\n",
      "memory usage: 1.6 KB\n"
     ]
    },
    {
     "data": {
      "text/html": [
       "<div>\n",
       "<style>\n",
       "    .dataframe thead tr:only-child th {\n",
       "        text-align: right;\n",
       "    }\n",
       "\n",
       "    .dataframe thead th {\n",
       "        text-align: left;\n",
       "    }\n",
       "\n",
       "    .dataframe tbody tr th {\n",
       "        vertical-align: top;\n",
       "    }\n",
       "</style>\n",
       "<table border=\"1\" class=\"dataframe\">\n",
       "  <thead>\n",
       "    <tr style=\"text-align: right;\">\n",
       "      <th></th>\n",
       "      <th>population</th>\n",
       "      <th>profits</th>\n",
       "    </tr>\n",
       "  </thead>\n",
       "  <tbody>\n",
       "    <tr>\n",
       "      <th>0</th>\n",
       "      <td>6.1101</td>\n",
       "      <td>17.5920</td>\n",
       "    </tr>\n",
       "    <tr>\n",
       "      <th>1</th>\n",
       "      <td>5.5277</td>\n",
       "      <td>9.1302</td>\n",
       "    </tr>\n",
       "    <tr>\n",
       "      <th>2</th>\n",
       "      <td>8.5186</td>\n",
       "      <td>13.6620</td>\n",
       "    </tr>\n",
       "    <tr>\n",
       "      <th>3</th>\n",
       "      <td>7.0032</td>\n",
       "      <td>11.8540</td>\n",
       "    </tr>\n",
       "    <tr>\n",
       "      <th>4</th>\n",
       "      <td>5.8598</td>\n",
       "      <td>6.8233</td>\n",
       "    </tr>\n",
       "  </tbody>\n",
       "</table>\n",
       "</div>"
      ],
      "text/plain": [
       "   population  profits\n",
       "0      6.1101  17.5920\n",
       "1      5.5277   9.1302\n",
       "2      8.5186  13.6620\n",
       "3      7.0032  11.8540\n",
       "4      5.8598   6.8233"
      ]
     },
     "execution_count": 30,
     "metadata": {},
     "output_type": "execute_result"
    }
   ],
   "source": [
    "df = pd.read_csv('../Ng-MachineLearning/ex1-linear regression/ex1data1.txt', names=['population', 'profits'])\n",
    "print(len(df))\n",
    "df.info()\n",
    "type(df)\n",
    "df.head()"
   ]
  },
  {
   "cell_type": "code",
   "execution_count": 31,
   "metadata": {},
   "outputs": [
    {
     "data": {
      "image/png": "[encoded data removed]",
      "text/plain": [
       "<matplotlib.figure.Figure at 0xbed05f8>"
      ]
     },
     "metadata": {},
     "output_type": "display_data"
    }
   ],
   "source": [
    "sns.lmplot(x='population', y='profits', data=df, size=6, fit_reg=True)\n",
    "plt.show()"
   ]
  },
  {
   "cell_type": "code",
   "execution_count": 65,
   "metadata": {
    "collapsed": true
   },
   "outputs": [],
   "source": [
    "def get_x(df): #读取特征\n",
    "    ones = pd.DataFrame({'ones': np.ones(len(df))})\n",
    "    data = pd.concat([ones, df], axis=1)\n",
    "    return data.iloc[:, :-1].as_matrix()\n",
    "\n",
    "def get_y(df): #读取标签\n",
    "    return np.array(df.iloc[:, -1])\n",
    "\n",
    "def normalize_feature(df): #特征缩放\n",
    "    return df.apply(lambda column: (column - column.mean()) / column.std())"
   ]
  },
  {
   "cell_type": "code",
   "execution_count": 9,
   "metadata": {
    "collapsed": true
   },
   "outputs": [],
   "source": [
    "import tensorflow as tf\n",
    "import numpy as np"
   ]
  },
  {
   "cell_type": "code",
   "execution_count": 14,
   "metadata": {},
   "outputs": [
    {
     "name": "stdout",
     "output_type": "stream",
     "text": [
      "0 [[ 0.71047848 -0.35387379]] [ 0.73198706]\n",
      "20 [[ 0.17401211  0.0823983 ]] [ 0.32847396]\n",
      "40 [[ 0.11122425  0.18026423]] [ 0.3054063]\n",
      "60 [[ 0.10153046  0.19660717]] [ 0.30113921]\n",
      "80 [[ 0.10014523  0.19938974]] [ 0.30027327]\n",
      "100 [[ 0.09998772  0.19988143]] [ 0.30007437]\n",
      "120 [[ 0.09998565  0.19997424]] [ 0.3000223]\n",
      "140 [[ 0.09999343  0.19999361]] [ 0.30000713]\n",
      "160 [[ 0.09999749  0.19999823]] [ 0.30000234]\n",
      "180 [[ 0.09999911  0.19999947]] [ 0.30000079]\n",
      "200 [[ 0.09999968  0.19999978]] [ 0.30000028]\n"
     ]
    }
   ],
   "source": [
    "# 使用 NumPy 生成假数据(phony data), 总共 100 个点.\n",
    "x_data = np.float32(np.random.rand(2, 100)) # 随机输入\n",
    "y_data = np.dot([0.100, 0.200], x_data) + 0.300\n",
    "# 构造一个线性模型\n",
    "#\n",
    "b = tf.Variable(tf.zeros([1]))\n",
    "W = tf.Variable(tf.random_uniform([1, 2], -1.0, 1.0))\n",
    "y = tf.matmul(W, x_data) + b\n",
    "# 最小化方差\n",
    "loss = tf.reduce_mean(tf.square(y - y_data))\n",
    "optimizer = tf.train.GradientDescentOptimizer(0.5)\n",
    "train = optimizer.minimize(loss)\n",
    "# 初始化变量\n",
    "init = tf.initialize_all_variables()\n",
    "# 启动图 (graph)\n",
    "sess = tf.Session()\n",
    "sess.run(init)\n",
    "# 拟合平面\n",
    "for step in range(0, 201):\n",
    "    sess.run(train)\n",
    "    if step % 20 == 0:\n",
    "        print(step, sess.run(W), sess.run(b))\n",
    "# 得到最佳拟合结果 W: [[0.100 0.200]], b: [0.300]"
   ]
  },
  {
   "cell_type": "code",
   "execution_count": 22,
   "metadata": {},
   "outputs": [
    {
     "name": "stdout",
     "output_type": "stream",
     "text": [
      "<tf.Variable 'Variable_15:0' shape=(1,) dtype=float32_ref>\n"
     ]
    },
    {
     "data": {
      "text/plain": [
       "tensorflow.python.ops.variables.Variable"
      ]
     },
     "execution_count": 22,
     "metadata": {},
     "output_type": "execute_result"
    }
   ],
   "source": [
    "b = tf.Variable(tf.zeros([1]))\n",
    "print(b)\n",
    "type(b)"
   ]
  },
  {
   "cell_type": "markdown",
   "metadata": {
    "collapsed": true
   },
   "source": [
    "## 第一课第二周的课后作业"
   ]
  },
  {
   "cell_type": "markdown",
   "metadata": {
    "collapsed": true
   },
   "source": [
    "assignment2_1 --> 1.4 - Normalizing rows"
   ]
  },
  {
   "cell_type": "code",
   "execution_count": 35,
   "metadata": {
    "collapsed": true
   },
   "outputs": [],
   "source": [
    "import numpy as np\n",
    "\n",
    "def sigmoid(x):\n",
    "    return 1/(1+np.exp(-x))\n",
    "\n",
    "def sigmoid_derivative(x):\n",
    "    s = sigmoid(x)\n",
    "    ds = s*(1-s)\n",
    "    return ds"
   ]
  },
  {
   "cell_type": "code",
   "execution_count": 29,
   "metadata": {},
   "outputs": [
    {
     "name": "stdout",
     "output_type": "stream",
     "text": [
      "[0.7310585786300049, 0.88079707797788231, 0.95257412682243336]\n"
     ]
    }
   ],
   "source": [
    "print(list(map(lambda x : 1/(1+np.exp(-x)), np.array([1,2,3]))))"
   ]
  },
  {
   "cell_type": "code",
   "execution_count": 36,
   "metadata": {},
   "outputs": [
    {
     "name": "stdout",
     "output_type": "stream",
     "text": [
      "sigmoid_derivative(x)=[ 0.19661193  0.10499359  0.04517666]\n"
     ]
    }
   ],
   "source": [
    "x = np.array([1,2,3])\n",
    "print(\"sigmoid_derivative(x)=\" + str(sigmoid_derivative(x)))"
   ]
  },
  {
   "cell_type": "code",
   "execution_count": 67,
   "metadata": {},
   "outputs": [
    {
     "name": "stdout",
     "output_type": "stream",
     "text": [
      "3 4 2\n",
      "[[ 0.67826139]\n",
      " [ 0.29380381]\n",
      " [ 0.90714982]\n",
      " [ 0.52835647]\n",
      " [ 0.4215251 ]\n",
      " [ 0.45017551]\n",
      " [ 0.4215251 ]\n",
      " [ 0.45017551]\n",
      " [ 0.92814219]\n",
      " [ 0.96677647]\n",
      " [ 0.85304703]\n",
      " [ 0.52351845]\n",
      " [ 0.19981397]\n",
      " [ 0.27417313]\n",
      " [ 0.19981397]\n",
      " [ 0.27417313]\n",
      " [ 0.60659855]\n",
      " [ 0.00533165]\n",
      " [ 0.10820313]\n",
      " [ 0.49978937]\n",
      " [ 0.34144279]\n",
      " [ 0.94630077]\n",
      " [ 0.34144279]\n",
      " [ 0.94630077]]\n"
     ]
    }
   ],
   "source": [
    "def image2vector(image):\n",
    "    v = image.reshape(image.shape[0]*image.shape[1]*image.shape[2], 1)\n",
    "    return v\n",
    "\n",
    "image = np.array([[[ 0.67826139,  0.29380381],\n",
    "        [ 0.90714982,  0.52835647],\n",
    "        [ 0.4215251 ,  0.45017551],\n",
    "        [ 0.4215251 ,  0.45017551]],\n",
    "\n",
    "       [[ 0.92814219,  0.96677647],\n",
    "        [ 0.85304703,  0.52351845],\n",
    "        [ 0.19981397,  0.27417313],\n",
    "        [ 0.19981397,  0.27417313]],\n",
    "\n",
    "       [[ 0.60659855,  0.00533165],\n",
    "        [ 0.10820313,  0.49978937],\n",
    "        [ 0.34144279,  0.94630077],\n",
    "        [ 0.34144279,  0.94630077]]])\n",
    "print(image.shape[0], image.shape[1], image.shape[2])\n",
    "print(image2vector(image))"
   ]
  },
  {
   "cell_type": "code",
   "execution_count": 79,
   "metadata": {},
   "outputs": [
    {
     "name": "stdout",
     "output_type": "stream",
     "text": [
      "normalizeRows(x) = [[ 0.          0.6         0.8       ]\n",
      " [ 0.13736056  0.82416338  0.54944226]]\n"
     ]
    }
   ],
   "source": [
    "def normalizeRows(x):\n",
    "    x_norm = np.linalg.norm(x, ord=2, axis=1, keepdims=True)\n",
    "    x = x / x_norm\n",
    "    return x\n",
    "\n",
    "x = np.array([\n",
    "    [0, 3, 4],\n",
    "    [1, 6, 4]])\n",
    "print(\"normalizeRows(x) = \" + str(normalizeRows(x)))"
   ]
  },
  {
   "cell_type": "code",
   "execution_count": 17,
   "metadata": {},
   "outputs": [
    {
     "name": "stdout",
     "output_type": "stream",
     "text": [
      "4.7\n",
      "3.3015148038438356\n"
     ]
    }
   ],
   "source": [
    "import pandas as pd\n",
    "import numpy as np\n",
    "a = [0,1,2,3,4,5,6,8,8,10]\n",
    "a = pd.Series(a)\n",
    "print(a.mean())\n",
    "print(a.std())"
   ]
  },
  {
   "cell_type": "markdown",
   "metadata": {},
   "source": [
    "## 样本方差的求法"
   ]
  },
  {
   "cell_type": "code",
   "execution_count": 23,
   "metadata": {},
   "outputs": [
    {
     "data": {
      "text/plain": [
       "10.9"
      ]
     },
     "execution_count": 23,
     "metadata": {},
     "output_type": "execute_result"
    }
   ],
   "source": [
    "std=0.0\n",
    "m=len(a)\n",
    "for i in range(m):\n",
    "    std+=np.square((a[i]-a.mean()))\n",
    "std/(m-1)"
   ]
  },
  {
   "cell_type": "markdown",
   "metadata": {
    "collapsed": true
   },
   "source": [
    "## 图像压缩算法 -- 灰度化图像"
   ]
  },
  {
   "cell_type": "code",
   "execution_count": 3,
   "metadata": {},
   "outputs": [
    {
     "name": "stdout",
     "output_type": "stream",
     "text": [
      "总共耗时：0.2820162773132324s\n"
     ]
    }
   ],
   "source": [
    "#-*-coding:utf-8-*-\n",
    "#############设置编码################\n",
    "import sys\n",
    "# reload(sys)\n",
    "# sys.setdefaultencoding('utf-8')\n",
    "\n",
    "############导入计算机视觉库opencv和图像处理库PIL####################\n",
    "from PIL import Image\n",
    "from PIL import ImageEnhance\n",
    "from PIL import ImageFilter\n",
    "import cv2\n",
    "import time\n",
    "time1 = time.time()\n",
    "\n",
    "########################自定义图像压缩函数############################\n",
    "def img_zip(path,filename1,filename2):\n",
    "    image = cv2.imread(path+filename1)\n",
    "    res = cv2.resize(image, (1280, 960), interpolation=cv2.INTER_AREA)\n",
    "    cv2.imwrite(path+filename2, res)\n",
    "    imgE = Image.open(path+filename2)\n",
    "    imgEH = ImageEnhance.Contrast(imgE)\n",
    "    img1 = imgEH.enhance(2.8)\n",
    "    gray1 = img1.convert(\"L\")\n",
    "    gary2 = gray1.filter(ImageFilter.DETAIL)\n",
    "    gary3 = gary2.point(lambda i: i * 0.9)\n",
    "    gary3.save(path+filename2)\n",
    "\n",
    "################################主函数##################################\n",
    "if __name__ == '__main__':\n",
    "    path=u\"D:/DHU-Excellent-Course/images/\"\n",
    "    filename1=\"img1.jpg\"\n",
    "    filename2=\"img1_comp.jpg\"\n",
    "    img_zip(path,filename1,filename2)\n",
    "    time2 = time.time()\n",
    "    print(u'总共耗时：' + str(time2 - time1) + 's')"
   ]
  }
 ],
 "metadata": {
  "kernelspec": {
   "display_name": "Python 3",
   "language": "python",
   "name": "python3"
  },
  "language_info": {
   "codemirror_mode": {
    "name": "ipython",
    "version": 3
   },
   "file_extension": ".py",
   "mimetype": "text/x-python",
   "name": "python",
   "nbconvert_exporter": "python",
   "pygments_lexer": "ipython3",
   "version": "3.6.3"
  }
 },
 "nbformat": 4,
 "nbformat_minor": 2
}
