{
 "cells": [
  {
   "cell_type": "code",
   "execution_count": 2,
   "metadata": {
    "collapsed": true
   },
   "outputs": [],
   "source": [
    "%matplotlib inline\n",
    "\n",
    "import matplotlib.pyplot as plt\n",
    "\n",
    "import pandas as pd"
   ]
  },
  {
   "cell_type": "code",
   "execution_count": 3,
   "metadata": {},
   "outputs": [
    {
     "name": "stdout",
     "output_type": "stream",
     "text": [
      "0           longitude\n",
      "1            latitude\n",
      "2    housingMedianAge\n",
      "3          totalRooms\n",
      "4       totalBedrooms\n",
      "5          population\n",
      "6          households\n",
      "7        medianIncome\n",
      "8    medianHouseValue\n",
      "Name: 1, dtype: object\n",
      "<class 'pandas.core.series.Series'>\n"
     ]
    }
   ],
   "source": [
    "col = pd.read_csv('G:/LearningData/CaliforniaHousing/cal_housing.domain', sep=':' ,names=['1', '2'])\n",
    "columns = col['1']\n",
    "print(columns)\n",
    "print(type(columns))"
   ]
  },
  {
   "cell_type": "code",
   "execution_count": 4,
   "metadata": {},
   "outputs": [
    {
     "name": "stdout",
     "output_type": "stream",
     "text": [
      "   longitude  latitude  housingMedianAge  totalRooms  totalBedrooms  \\\n",
      "0    -122.23     37.88              41.0       880.0          129.0   \n",
      "1    -122.22     37.86              21.0      7099.0         1106.0   \n",
      "2    -122.24     37.85              52.0      1467.0          190.0   \n",
      "3    -122.25     37.85              52.0      1274.0          235.0   \n",
      "4    -122.25     37.85              52.0      1627.0          280.0   \n",
      "\n",
      "   population  households  medianIncome  medianHouseValue  \n",
      "0       322.0       126.0        8.3252          452600.0  \n",
      "1      2401.0      1138.0        8.3014          358500.0  \n",
      "2       496.0       177.0        7.2574          352100.0  \n",
      "3       558.0       219.0        5.6431          341300.0  \n",
      "4       565.0       259.0        3.8462          342200.0  \n"
     ]
    }
   ],
   "source": [
    "housing = pd.read_csv('G:/LearningData/CaliforniaHousing/cal_housing.data', names=columns)\n",
    "print(housing.head())"
   ]
  },
  {
   "cell_type": "code",
   "execution_count": null,
   "metadata": {
    "collapsed": true
   },
   "outputs": [],
   "source": [
    "from sklearn.datasets.california_housing import fetch_california_housing\n",
    "housing = fetch_california_housing()\n",
    "print(housing.DESCR)"
   ]
  },
  {
   "cell_type": "code",
   "execution_count": 5,
   "metadata": {},
   "outputs": [
    {
     "data": {
      "text/plain": [
       "array([[ -1.22230000e+02,   3.78800000e+01,   4.10000000e+01, ...,\n",
       "          1.26000000e+02,   8.32520000e+00,   4.52600000e+05],\n",
       "       [ -1.22220000e+02,   3.78600000e+01,   2.10000000e+01, ...,\n",
       "          1.13800000e+03,   8.30140000e+00,   3.58500000e+05],\n",
       "       [ -1.22240000e+02,   3.78500000e+01,   5.20000000e+01, ...,\n",
       "          1.77000000e+02,   7.25740000e+00,   3.52100000e+05],\n",
       "       ..., \n",
       "       [ -1.21220000e+02,   3.94300000e+01,   1.70000000e+01, ...,\n",
       "          4.33000000e+02,   1.70000000e+00,   9.23000000e+04],\n",
       "       [ -1.21320000e+02,   3.94300000e+01,   1.80000000e+01, ...,\n",
       "          3.49000000e+02,   1.86720000e+00,   8.47000000e+04],\n",
       "       [ -1.21240000e+02,   3.93700000e+01,   1.60000000e+01, ...,\n",
       "          5.30000000e+02,   2.38860000e+00,   8.94000000e+04]])"
      ]
     },
     "execution_count": 5,
     "metadata": {},
     "output_type": "execute_result"
    }
   ],
   "source": [
    "housing.values"
   ]
  },
  {
   "cell_type": "code",
   "execution_count": 6,
   "metadata": {},
   "outputs": [
    {
     "data": {
      "text/plain": [
       "(20640, 9)"
      ]
     },
     "execution_count": 6,
     "metadata": {},
     "output_type": "execute_result"
    }
   ],
   "source": [
    "housing.values.shape"
   ]
  },
  {
   "cell_type": "code",
   "execution_count": 7,
   "metadata": {
    "collapsed": true
   },
   "outputs": [],
   "source": [
    "train_X = housing.values[:, :8]\n",
    "train_y = housing.values[:, 8]"
   ]
  },
  {
   "cell_type": "code",
   "execution_count": 8,
   "metadata": {},
   "outputs": [
    {
     "data": {
      "text/plain": [
       "DecisionTreeRegressor(criterion='mse', max_depth=2, max_features=None,\n",
       "           max_leaf_nodes=None, min_impurity_decrease=0.0,\n",
       "           min_impurity_split=None, min_samples_leaf=1,\n",
       "           min_samples_split=2, min_weight_fraction_leaf=0.0,\n",
       "           presort=False, random_state=None, splitter='best')"
      ]
     },
     "execution_count": 8,
     "metadata": {},
     "output_type": "execute_result"
    }
   ],
   "source": [
    "from sklearn import tree\n",
    "dtr = tree.DecisionTreeRegressor(max_depth = 2)\n",
    "dtr.fit(train_X[:, [6, 7]], train_y)"
   ]
  },
  {
   "cell_type": "code",
   "execution_count": 9,
   "metadata": {
    "collapsed": true
   },
   "outputs": [],
   "source": [
    "#要可视化显示 首先需要安装 graphviz  conda install graphviz  http://www.graphviz.org/Download..php\n",
    "dot_data = tree.export_graphviz(\n",
    "        dtr,\n",
    "        out_file = None,\n",
    "        feature_names = train_X[6:8],\n",
    "        filled = True,\n",
    "        impurity = False,\n",
    "        rounded = True\n",
    "    )"
   ]
  },
  {
   "cell_type": "code",
   "execution_count": 10,
   "metadata": {},
   "outputs": [
    {
     "data": {
      "image/png": "[encoded data removed]",
      "text/plain": [
       "<IPython.core.display.Image object>"
      ]
     },
     "execution_count": 10,
     "metadata": {},
     "output_type": "execute_result"
    }
   ],
   "source": [
    "#pip install pydotplus\n",
    "import pydotplus\n",
    "graph = pydotplus.graph_from_dot_data(dot_data)\n",
    "graph.get_nodes()[7].set_fillcolor(\"#FFF2DD\")\n",
    "from IPython.display import Image\n",
    "Image(graph.create_png())"
   ]
  },
  {
   "cell_type": "code",
   "execution_count": 11,
   "metadata": {},
   "outputs": [
    {
     "data": {
      "text/plain": [
       "True"
      ]
     },
     "execution_count": 11,
     "metadata": {},
     "output_type": "execute_result"
    }
   ],
   "source": [
    "graph.write_png(\"dtr_white_background.png\")"
   ]
  },
  {
   "cell_type": "code",
   "execution_count": 13,
   "metadata": {},
   "outputs": [
    {
     "data": {
      "text/plain": [
       "0.637318351331017"
      ]
     },
     "execution_count": 13,
     "metadata": {},
     "output_type": "execute_result"
    }
   ],
   "source": [
    "from sklearn.model_selection import train_test_split\n",
    "data_train, data_test, target_train, target_test = \\\n",
    "    train_test_split(housing.data, housing.target, test_size = 0.1, random_state = 42)\n",
    "dtr = tree.DecisionTreeRegressor(random_state = 42)\n",
    "dtr.fit(data_train, target_train)\n",
    "\n",
    "dtr.score(data_test, target_test)"
   ]
  },
  {
   "cell_type": "code",
   "execution_count": 23,
   "metadata": {},
   "outputs": [
    {
     "data": {
      "text/plain": [
       "0.79086492280964926"
      ]
     },
     "execution_count": 23,
     "metadata": {},
     "output_type": "execute_result"
    }
   ],
   "source": [
    "from sklearn.ensemble import RandomForestRegressor\n",
    "rfr = RandomForestRegressor( random_state = 42)\n",
    "rfr.fit(data_train, target_train)\n",
    "rfr.score(data_test, target_test)"
   ]
  },
  {
   "cell_type": "markdown",
   "metadata": {},
   "source": [
    "## 树模型参数:\n",
    "\n",
    "-  1.criterion  gini  or  entropy\n",
    "\n",
    "-  2.splitter  best or random 前者是在所有特征中找最好的切分点 后者是在部分特征中（数据量大的时候）\n",
    "\n",
    "-  3.max_features  None（所有），log2，sqrt，N  特征小于50的时候一般使用所有的\n",
    "\n",
    "-  4.max_depth  数据少或者特征少的时候可以不管这个值，如果模型样本量多，特征也多的情况下，可以尝试限制下\n",
    "\n",
    "-  5.min_samples_split  如果某节点的样本数少于min_samples_split，则不会继续再尝试选择最优特征来进行划分如果样本量不大，不需要管这个值。如果样本量数量级非常大，则推荐增大这个值。\n",
    "\n",
    "-  6.min_samples_leaf  这个值限制了叶子节点最少的样本数，如果某叶子节点数目小于样本数，则会和兄弟节点一起被剪枝，如果样本量不大，不需要管这个值，大些如10W可是尝试下5\n",
    "\n",
    "-  7.min_weight_fraction_leaf 这个值限制了叶子节点所有样本权重和的最小值，如果小于这个值，则会和兄弟节点一起被剪枝默认是0，就是不考虑权重问题。一般来说，如果我们有较多样本有缺失值，或者分类树样本的分布类别偏差很大，就会引入样本权重，这时我们就要注意这个值了。\n",
    "\n",
    "-  8.max_leaf_nodes 通过限制最大叶子节点数，可以防止过拟合，默认是\"None”，即不限制最大的叶子节点数。如果加了限制，算法会建立在最大叶子节点数内最优的决策树。如果特征不多，可以不考虑这个值，但是如果特征分成多的话，可以加以限制具体的值可以通过交叉验证得到。\n",
    "\n",
    "-  9.class_weight 指定样本各类别的的权重，主要是为了防止训练集某些类别的样本过多导致训练的决策树过于偏向这些类别。这里可以自己指定各个样本的权重如果使用“balanced”，则算法会自己计算权重，样本量少的类别所对应的样本权重会高。\n",
    "\n",
    "- 10.min_impurity_split 这个值限制了决策树的增长，如果某节点的不纯度(基尼系数，信息增益，均方差，绝对差)小于这个阈值则该节点不再生成子节点。即为叶子节点 。\n",
    "- n_estimators:要建立树的个数"
   ]
  },
  {
   "cell_type": "code",
   "execution_count": 24,
   "metadata": {},
   "outputs": [
    {
     "data": {
      "text/plain": [
       "([mean: 0.78405, std: 0.00505, params: {'min_samples_split': 3, 'n_estimators': 10},\n",
       "  mean: 0.80529, std: 0.00448, params: {'min_samples_split': 3, 'n_estimators': 50},\n",
       "  mean: 0.80673, std: 0.00433, params: {'min_samples_split': 3, 'n_estimators': 100},\n",
       "  mean: 0.79016, std: 0.00124, params: {'min_samples_split': 6, 'n_estimators': 10},\n",
       "  mean: 0.80496, std: 0.00491, params: {'min_samples_split': 6, 'n_estimators': 50},\n",
       "  mean: 0.80671, std: 0.00408, params: {'min_samples_split': 6, 'n_estimators': 100},\n",
       "  mean: 0.78747, std: 0.00341, params: {'min_samples_split': 9, 'n_estimators': 10},\n",
       "  mean: 0.80481, std: 0.00322, params: {'min_samples_split': 9, 'n_estimators': 50},\n",
       "  mean: 0.80603, std: 0.00437, params: {'min_samples_split': 9, 'n_estimators': 100}],\n",
       " {'min_samples_split': 3, 'n_estimators': 100},\n",
       " 0.8067250881273065)"
      ]
     },
     "execution_count": 24,
     "metadata": {},
     "output_type": "execute_result"
    }
   ],
   "source": [
    "from sklearn.grid_search import GridSearchCV\n",
    "tree_param_grid = { 'min_samples_split': list((3,6,9)),'n_estimators':list((10,50,100))}\n",
    "grid = GridSearchCV(RandomForestRegressor(),param_grid=tree_param_grid, cv=5)\n",
    "grid.fit(data_train, target_train)\n",
    "grid.grid_scores_, grid.best_params_, grid.best_score_"
   ]
  },
  {
   "cell_type": "code",
   "execution_count": 29,
   "metadata": {},
   "outputs": [
    {
     "data": {
      "text/plain": [
       "0.80908290496531576"
      ]
     },
     "execution_count": 29,
     "metadata": {},
     "output_type": "execute_result"
    }
   ],
   "source": [
    "rfr = RandomForestRegressor( min_samples_split=3,n_estimators = 100,random_state = 42)\n",
    "rfr.fit(data_train, target_train)\n",
    "rfr.score(data_test, target_test)"
   ]
  },
  {
   "cell_type": "code",
   "execution_count": 31,
   "metadata": {},
   "outputs": [
    {
     "data": {
      "text/plain": [
       "MedInc        0.524257\n",
       "AveOccup      0.137947\n",
       "Latitude      0.090622\n",
       "Longitude     0.089414\n",
       "HouseAge      0.053970\n",
       "AveRooms      0.044443\n",
       "Population    0.030263\n",
       "AveBedrms     0.029084\n",
       "dtype: float64"
      ]
     },
     "execution_count": 31,
     "metadata": {},
     "output_type": "execute_result"
    }
   ],
   "source": [
    "pd.Series(rfr.feature_importances_, index = housing.feature_names).sort_values(ascending = False)"
   ]
  }
 ],
 "metadata": {
  "anaconda-cloud": {},
  "kernelspec": {
   "display_name": "Python 3",
   "language": "python",
   "name": "python3"
  },
  "language_info": {
   "codemirror_mode": {
    "name": "ipython",
    "version": 3
   },
   "file_extension": ".py",
   "mimetype": "text/x-python",
   "name": "python",
   "nbconvert_exporter": "python",
   "pygments_lexer": "ipython3",
   "version": "3.6.3"
  }
 },
 "nbformat": 4,
 "nbformat_minor": 1
}
