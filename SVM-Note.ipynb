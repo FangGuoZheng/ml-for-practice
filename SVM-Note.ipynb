{
 "cells": [
  {
   "cell_type": "markdown",
   "metadata": {},
   "source": [
    "### 支持向量机（SVM）\n",
    "* 目标函数：\n",
    "> $$\\max_{w,b}\\frac{1}{||W||}且y_{i}(w^{T}\\cdot\\Phi(x_{i})+b)\\geq1$$\n",
    "* 转换成：\n",
    "> $$\\min_{w,b}\\frac{1}{2}W^{2}且y_{i}(w^{T}\\cdot\\Phi(x_{i})+b)\\geq1$$\n",
    "* $L(w,b,a)=\\frac{1}{2}||w||^{2}-\\sum\\limits_{i=1}^{n}a_{i}(y_{i}(w^{T}\\cdot\\Phi(x_{i})+b)-1)$\n",
    "> $=\\sum\\limits_{i=1}^{n}a_{i}-\\frac{1}{2}\\sum\\limits_{i,j=1}^{n}a_{i}a_{j}y_{i}y_{j}\\Phi^{T}(x_{i})\\Phi(x_{j})$"
   ]
  },
  {
   "cell_type": "markdown",
   "metadata": {},
   "source": [
    "### SMO算法求解SVN\n",
    "$\\min_\\vec{a}\\Psi(\\vec{a})=\\min_\\vec{a}\\frac{1}{2}\\sum\\limits_{i=1}^{N}\\sum\\limits_{j=1}^{N}y_{i}y_{j}K(\\vec{x_{i}},\\vec{x_{j}})a_{i}a_{j}-\\sum\\limits_{i=1}^{N}a_{i},$ <br>\n",
    "> $0\\leqslant a_{i}\\leqslant C,\\forall i,$ <br>\n",
    "> $\\sum\\limits_{i=1}^{N}y_{i}a_{i}=0.$"
   ]
  }
 ],
 "metadata": {
  "kernelspec": {
   "display_name": "Python 3",
   "language": "python",
   "name": "python3"
  },
  "language_info": {
   "codemirror_mode": {
    "name": "ipython",
    "version": 3
   },
   "file_extension": ".py",
   "mimetype": "text/x-python",
   "name": "python",
   "nbconvert_exporter": "python",
   "pygments_lexer": "ipython3",
   "version": "3.6.3"
  }
 },
 "nbformat": 4,
 "nbformat_minor": 2
}
